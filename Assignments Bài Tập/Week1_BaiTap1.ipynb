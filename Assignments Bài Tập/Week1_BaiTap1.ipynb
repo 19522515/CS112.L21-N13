{
 "cells": [
  {
   "attachments": {},
   "cell_type": "markdown",
   "metadata": {},
   "source": [
    "#  Bài 1: Tảo Biển SEAWEED \n",
    "\n",
    "# Abstraction : \n",
    "    Nhập dữ liệu hai số nguyên n và k, với k là số phần tử mà n tạo ra thỏa mãn yêu cầu ứng với mỗi k sẽ bằng tổng của các tích của các phần tử trước nhân với hiệu chỉ số tính từ k đến các phần tử đó , giá trị của phần tử đầu tiên chính là n , sau đó tính tổng tất cả các giá trị của các phần tử rồi xuất ra màn hình ta được kết quả.\n",
    "#Pattern Recognition :\n",
    "    Phân tích bài toán, ta có:\n",
    "    * Ngày đầu tiên: sinh ra 3x1 cá thể mức 1 Suy ra => 3 cá thể sinh ra \n",
    "    * Ngày tiếp theo: sinh ra 3x2 cá thể mức 1, 3x1 cá thể mức 1 Suy ra => 9 cá thể sinh ra\n",
    "    * Ngày ba: sinh ra 3x3 cá thể mức 1, 3x2 cá thể mức 1, 9x1 cá thể Suy ra => 24 cá thể sinh ra\n",
    "    Nếu thể hiện dưới mảng ta sẽ thấy số cá thể sinh ra từng ngày:\n",
    "\n",
    "    - Số cá thể sinh ra ngày thứ k sẽ là:\n",
    " 		a[i] = $\\sum_{n = 0}^{k-1} a[i]x(k-i)$\n",
    "    - Tổng số cá thể ngày thứ k = tổng số cá thể ngày (k-1)x2  + số cá thể tăng thêm trong ngày (k-1)\n",
    "    \n",
    " - Như vậy, ta sẽ có 1 vòng lặp từ bắt đầu từ chỉ số 1, và biến s (s = 0) tính số cá thể sinh ra, biến a = n là số cá thể ngày 0 và biến b là tổng tất cả các cá thể theo công thức: b=2*a+s\n",
    "# Kĩ thuật được áp dụng #: Kĩ thuật vòng lặp với điều kiện ở đầu\n",
    "* <strong> Lưu đồ thuật toán </strong>:\n",
    "![datagram1](https://imagizer.imageshack.com/img923/484/EzO8wg.png)\n",
    "* <strong> Độ phức tạp thuật toán </strong>: O(n)\n"
   ]
  },
  {
   "cell_type": "code",
   "execution_count": null,
   "metadata": {},
   "outputs": [],
   "source": [
    "import io, os, sys\n",
    "[n,k] = [int(i) for i in input().split()]
    "M = 1000000007
    "a = [n,n]
    "for i in range (2,2*k + 1):
    "    a.append(((a[i-1]%M) + (a[i-2]%M))%M)
    "   print(a[2*k])
   ]
  },
