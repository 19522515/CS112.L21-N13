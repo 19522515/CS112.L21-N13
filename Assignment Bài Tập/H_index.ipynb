{
 "metadata": {
  "language_info": {
   "codemirror_mode": {
    "name": "ipython",
    "version": 3
   },
   "file_extension": ".py",
   "mimetype": "text/x-python",
   "name": "python",
   "nbconvert_exporter": "python",
   "pygments_lexer": "ipython3",
   "version": "3.9.2-final"
  },
  "orig_nbformat": 2,
  "kernelspec": {
   "name": "python392jvsc74a57bd0ae8b3a8c36ce3d8ff625628d1cf19f3880da62cf0de47a3d266b7795859bf052",
   "display_name": "Python 3.9.2 64-bit ('tuan': conda)"
  }
 },
 "nbformat": 4,
 "nbformat_minor": 2,
 "cells": [
  {
   "source": [
    "# Nhóm 13\n",
    "# H-Index\n",
    "\n",
    "Làm thế nào để đánh giá sự thành công của một nhà khoa học?  Dựa vào số bài báo được công bố hay dựa vào số lần một bài báo được trích dẫn tới ở công trình của những người khác? Cả hai tham số đó đều quan trọng.\n",
    "\n",
    "Một bài báo có điểm số trích dẫn là c nếu nó được trích dẫn tới c lần trong các công trình của những nhà khoa học khác. Một trong số các cách đánh giá sự thành công của một nhà khoa học là tính chỉ số ảnh hưởng H_Index dựa trên sự kết hợp giữa số lượng bài báo và chỉ số trích dẫn của các bài báo đó.\n",
    "\n",
    "Chỉ số H_Index của một nhà khoa học bằng k lớn nhất nếu người đó có k bài báo, mỗi bài có điểm số trích dẫn không nhỏ hơn k. \n",
    "\n",
    "Ví dụ, một người có 10 bài báo, mỗi bài báo được trích dẫn không dưới 10 lần thì H_Index của người đó ít nhất là bằng 10.\n",
    "\n",
    "Một người có n bài báo, bài báo thứ i có điểm trích dẫn là ci, i = 1 ÷ n. Hãy xác định H_Index của người đó.\n",
    "\n",
    "**Dữ liệu**: Vào từ thiết bị nhập chuẩn:\n",
    "\n",
    "- Dòng đầu tiên chứa một số nguyên n (1 ≤ n ≤ 5×105),\n",
    "\n",
    "- Dòng thứ 2 chứa n số nguyên c1, c2, . . ., cn (0 ≤ ci ≤ 106, i = 1 ÷ n).\n",
    "\n",
    "**Kết quả**: Đưa ra thiết bị xuất chuẩn một số nguyên – H_Index tìm được.\n",
    "\n",
    "# 1. Abstraction\n",
    "Tìm k chữ số lớn hơn hoặc bằng k trong mảng A gồm n phần tử (k<n).\n",
    "\n",
    "# 2. Pattern Recognition\n",
    "Sắp xếp mảng và duyệt phần tử trong mảng đã sắp xếp\n",
    "\n",
    "Đặc điểm nhận dạng: Chuỗi số, tìm giá trị lớn nhất\n",
    "\n",
    "# 3. Algorithm Design\n",
    "```\n",
    "- Sắp xếp chuỗi số theo thứ tự tăng dần\n",
    "- Duyệt mảng arr với phần tử thứ i\n",
    "\n",
    "```\n",
    "# 4. Đánh giá độ phức tạp\n",
    "Độ phức tạp của hàm sort() là: $O(n.log(n))$\n",
    "\n",
    "Độ phức tạp của vòng for là: $O(n)$\n",
    "\n",
    "Vậy độ phức tạp của thật toán là: $O(n + n.log(n)) = O(n.log(n))$\n",
    "# 5. Programming\n",
    "     "
   ],
   "cell_type": "markdown",
   "metadata": {}
  },
  {
   "cell_type": "code",
   "execution_count": null,
   "metadata": {},
   "outputs": [],
   "source": [
    "n = int(input())\n",
    "x = list(map(int, input().split()))\n",
    "\n",
    "def H_Index(n, x):\n",
    "    x.sort(reverse=True)\n",
    "    h_index = 0\n",
    "    for i in range(n):\n",
    "        if x[i] >= i + 1:\n",
    "            h_index += 1\n",
    "        else:\n",
    "            break\n",
    "    return h_index\n",
    "\n",
    "print(H_Index(n, x))"
   ]
  }
 ]
}