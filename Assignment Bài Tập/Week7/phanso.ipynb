{
  "nbformat": 4,
  "nbformat_minor": 0,
  "metadata": {
    "colab": {
      "name": "phanso.ipynb",
      "provenance": []
    },
    "kernelspec": {
      "name": "python3",
      "display_name": "Python 3"
    },
    "language_info": {
      "name": "python"
    }
  },
  "cells": [
    {
      "cell_type": "markdown",
      "metadata": {
        "id": "zvZEFAdTcOKW"
      },
      "source": [
        "# Phân Số\n",
        "Cho 2 phân số đúng và tối giản $\\frac{a}{b}, \\frac{c}{d}$. Mỗi phép biến đổi là tăng **a** và **b** lên 1, sau đó giản ước phân số nhận được.\n",
        "\n",
        "Hãy xác định sau bao nhiêu bước biến đổi từ phân số thứ nhất ban đầu nhận được phân số thứ 2 đã cho.\n",
        "\n",
        "Dữ liệu: Vào từ thiết bị nhập chuẩn gồm 4 dòng, mỗi dòng chứa 1 số nguyên **a, b, c, d**, 0 &lt; a &lt; b ≤ 105, 0 &lt; c &lt; d ≤ 105, a và b nguyên tố cùng nhau, c và d nguyên tố cùng nhau $\\frac{a}{b} \\ne \\frac{c}{d}$\n",
        "\n",
        "Kết quả: Đưa ra thiết bị xuất chuẩn số 0 nếu không có cách biến đổi hoặc một số nguyên bằng số lượng phép biến đổi.\n",
        "\n",
        "Ví dụ: \n",
        "\n",
        "INPUT:\n",
        "\n",
        "1\n",
        "\n",
        "6\n",
        "\n",
        "2\n",
        "\n",
        "3\n",
        "\n",
        "OUTPUT:\n",
        "\n",
        "5\n",
        "# 1.Abstraction\n",
        "cho 4 số nguyên dương a, b , c, d sau một lần biến đổi thì a và b tăng thêm 1 đơn vị và chia cho ước chung lớn nhất của a và b. Tìm số lần biến đổi để a = c và b = d\n",
        "# 2.Pattern Recognition\n",
        "- Duyệt tuyến tính và vét cạn\n",
        "# 3.Algorithm Design:\n",
        "- Viết 1 hàm UCLN và rút gọn phân số\n",
        "- Vì số sau luôn lớn hơn số trước nên $\\frac{a}{b} < \\frac{c}{d}$  -> $a*d < b*c$. Do đó nếu $a*d ≥ b*c$ thì in đáp án là 0\n",
        "- Đặt biến dem = 0\n",
        "- Mỗi vòng lặp cho **a, b, dem** tăng lên 1 đơn vị và rút gọn phân số $\\frac{a}{b}$ đến khi đến khi $a*d ≥ b*c$\n",
        "- Nếu $a = c$ và $b = d$ thì in ra đáp án = **dem**, còn không thì in ra đáp án là **0**\n",
        "# 5.Programing"
      ]
    },
    {
      "cell_type": "code",
      "metadata": {
        "colab": {
          "base_uri": "https://localhost:8080/"
        },
        "id": "pSByNmXcgHFy",
        "outputId": "62be86d4-a8d5-4722-ac79-0ec65a7a411a"
      },
      "source": [
        "def UCLN(x, y):\n",
        "\twhile y != 0 :\n",
        "\t\ttemp = x\n",
        "\t\tx = y\n",
        "\t\ty = temp%y\n",
        "\treturn x\n",
        "def RutGonPS(a, b):\n",
        "\tuoc = UCLN(a, b)\n",
        "\treturn a/uoc,b/uoc\n",
        "def Giai(a, b, c, d):\n",
        "\tif (a * d >= b * c):\n",
        "\t\treturn 0\n",
        "\tdem = 0\n",
        "\twhile (a * d < b * c):\n",
        "\t\ta+= 1\n",
        "\t\tb+= 1\n",
        "\t\tdem+= 1\n",
        "\t\ta, b = RutGonPS(a, b)\n",
        "\tif ( a == c and b == d):\n",
        "\t\treturn dem\n",
        "\treturn 0\n",
        "a = int(input())\n",
        "b = int(input())\n",
        "c = int(input())\n",
        "d = int(input())\n",
        "print(Giai(a, b, c, d))\n"
      ],
      "execution_count": 2,
      "outputs": [
        {
          "output_type": "stream",
          "text": [
            "1\n",
            "6\n",
            "2\n",
            "3\n",
            "5\n"
          ],
          "name": "stdout"
        }
      ]
    }
  ]
}
