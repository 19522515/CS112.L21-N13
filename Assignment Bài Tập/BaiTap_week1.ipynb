{
 "cells": [
  {
   "attachments": {},
   "cell_type": "markdown",
   "metadata": {},
   "source": [
    "#  Bài 1: Tảo Biển \n",
    "\n",
    "*<strong> Abstraction </strong>: \n",
    "    - Nhập vào dữ liệu 2 số nguyên n, k với k là số phần tử mà n tạo ra thỏa mãn điều kiện ứng với mỗi thứ k sẽ bằng tổng các tích của các phần tử trước nhân với hiệu chỉ số tính từ k đến các phần tử đó,n là giá trị của phần tử đầu tiên chính ; cuối cùng ta tính tổng tất cả các giá trị của các phần tử rồi in ra màn hình sẽ nhận được kết quả.\n",
    "* <strong> Pattern Recognition </strong>:\n",
    "    Phân tích bài toán, ta được:\n",
    "    - Ngày đầu tiên: sinh ra 3x1 cá thể mức 1 => 3 cá thể\n",
    "    - Ngày tiếp theo: sinh ra 3x2 cá thể mức 1, 3x1 cá thể mức 1 => 9 cá thể\n",
    "    - Ngày ba: sinh ra 3x3 cá thể mức 1, 3x2 cá thể mức 1, 9x1 cá thể => 24 cá thể\n",
    "    - Số cá thể sinh ra trong ngày thứ k sẽ bằng:\n",
    "         -   a[i] = $\\sum_{n = 0}^{k-1} a[i]x(k-i)$\n",
    "    - Từ công thức ta thấy tổng số cá thể ngày thứ k = tổng số cá thể ngày (k-1)x2  + số cá thể tăng thêm trong ngày (k-1)\n",
    "* <strong> Kĩ thuật được áp dụng </strong>: Kĩ thuật vòng lặp với điều kiện ở đầu\n",
    "* <strong> Lưu đồ thuật toán </strong>:\n",
    "![datagram1](https://imagizer.imageshack.com/img923/484/EzO8wg.png)\n",
    "* <strong> Độ phức tạp thuật toán </strong>: O(n)\n"
   ]
  },
  {
   "cell_type": "code",
   "execution_count": null,
   "metadata": {},
   "outputs": [],
   "source": [
    "import io, os, sys\n",
    "[n,k] = [int(i) for i in input().split()]\n",
    "a = [n,n]\n",
    "M = 1000000007\n",
    "for i in range (2,2*k + 1):\n",
    "\ta.append(((a[i-1]%M) + (a[i-2]%M))%M)\n",
    "print(a[2*k])"
   ]
  },
  {
   "attachments": {},
   "cell_type": "markdown",
   "metadata": {},
   "source": [
    "# Bài 2: Trạm Thu Phí\n",
    " <strong> Abstraction: </strong>\n",
    "- Nhập vào dữ liệu số lượng phần tử của một mảng trên cùng một dòng , sau đó tìm khoảng trên mảng đó sao cho tổng là lớn nhất.\n",
    "* <strong> Kĩ thuật được áp dụng: </strong> Gắn biến tạm ,duyệt mảng.\n",
    "* <strong> Lưu đồ thuật toán: </strong>\n",
    "![datagram2](https://imagizer.imageshack.com/img922/2228/1uaQ9i.png)\n",
    "* <strong> Độ phức tạp: </strong> O(n)"
   ]
  },
  {
   "cell_type": "code",
   "execution_count": null,
   "metadata": {},
   "outputs": [],
   "source": [
    "n = int(input())\n",
    "sl = list(map(int, input().split()))[:n]\n",
    "sl_max = sl[0]\n",
    "TONG = 0\n",
    "for i in range(n):\n",
    "    TONG = max(sl[i], TONG + sl[i])\n",
    "    if (sl_max < TONG ):\n",
    "        sl_max = TONG\n",
    "        b = i\n",
    "temp = sl_max\n",
    "for i in range(-(b),1) :\n",
    "    temp -= sl[abs(i)]\n",
    "    if (temp == 0):\n",
    "        a = abs(i)\n",
    "        while (sl[a-1] == 0 or (sl[a-2] + sl[a - 1] == 0)):\n",
    "            if sl[a-1] == 0 :\n",
    "                a -= 1\n",
    "            if sl[a-2] + sl[a - 1] == 0 :\n",
    "                a -= 2\n",
    "        break\n",
    "print (str(a+1)+\" \"+str(b+1)+\" \"+str(sl_max))"
   ]
  }
 ],
 "metadata": {
  "kernelspec": {
   "display_name": "Python 3",
   "language": "python",
   "name": "python3"
  },
  "language_info": {
   "codemirror_mode": {
    "name": "ipython",
    "version": 3
   },
   "file_extension": ".py",
   "mimetype": "text/x-python",
   "name": "python",
   "nbconvert_exporter": "python",
   "pygments_lexer": "ipython3",
   "version": "3.7.1-final"
  }
 },
 "nbformat": 4,
 "nbformat_minor": 4
}