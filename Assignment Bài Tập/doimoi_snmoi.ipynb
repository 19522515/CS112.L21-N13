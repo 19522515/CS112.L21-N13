{
  "nbformat": 4,
  "nbformat_minor": 0,
  "metadata": {
    "colab": {
      "name": "doimoi_snmoi.ipynb",
      "provenance": []
    },
    "kernelspec": {
      "name": "python3",
      "display_name": "Python 3"
    },
    "language_info": {
      "name": "python"
    }
  },
  "cells": [
    {
      "cell_type": "markdown",
      "metadata": {
        "id": "7FTqtvsmpkoy"
      },
      "source": [
        "#**BÀI 1: ĐỔI MỚI**"
      ]
    },
    {
      "cell_type": "markdown",
      "metadata": {
        "id": "TipGahgfp0FB"
      },
      "source": [
        "### **1.Đề bài**\n",
        "\n",
        "Thành phố quyết định chặt hạ hết ***n*** cây xanh hiện có trong thành phố để trồng chỉ một loại cây mới. Nhiệm vụ được giao cho Công ty Cây xanh thành phố. Do hạn chế về thiết bị Công ty chỉ tổ chức được 2 đội đốn hạ cây. Đội I hạ được ***a*** cây mỗi ngày, nhưng cứ mối ngày thứ ***k*** thì phải nghỉ để bảo dưỡng kỹ thuật, tức là đội $I$ sẽ nghỉ vào các ngày ***k***, 2***k***, 3***k***, . . . Đội II hạ được ***b*** cây mỗi ngày, nhưng cứ mỗi ngày thứ ***m*** thì phải nghỉ để bảo dưỡng kỹ thuật, tức là đội II sẽ nghỉ vào các ngày ***m***, 2***m***, 3***m***, . . . Ở ngày nghỉ, số cây chặt hạ của đội sẽ là $0$. Cả hai đội bắt đầu công việc vào cùng một ngày và làm việc song song với nhau.\n",
        "\n",
        "Công việc trồng cây mới sẽ bắt đầu sau khi toàn bộ cây cũ đã bị đốn hạ.\n",
        "\n",
        "Hãy xác định sau bao nhiêu ngày thì có thể bắt đầu việc trồng mới cây.\n",
        "\n",
        "***Dữ liệu:*** Vào từ thiết bị nhập chuẩn gồm một dòng chứa 5 số nguyên ***a***, ***k***, ***b***, ***m*** và ***n*** $(1 ≤ a, b ≤ 10^9, 2 ≤ k, m ≤ 10^{18}, 1 ≤ n ≤ 10^{18})$.\n",
        "\n",
        "***Kết quả:*** Đưa ra thiết bị xuất chuẩn một số nguyên – số ngày tính được.\n",
        "\n",
        "***Ví dụ:***\n",
        "\n",
        "***Input :*** *2 4 3 3 25*\n",
        "\n",
        "***Output :***  *7*\n",
        "\n",
        "### **2.Abstraction**\n",
        "\n",
        "Cho $a$, $k$, $b$, $m$, $n$ tìm $day$ nhỏ nhất thỏa mãn:\n",
        "$$n - (day * (a+b) - (day // k) * a - (day//m)*b) ≤ 0 $$\n",
        "### **3.Pattern Recognition**\n",
        "\n",
        "- Dạng toán:\n",
        "  - Vét cạn\n",
        "- Đặc điểm nhận dạng:\n",
        "  - Cần xét tất cả các giá trị của $day$ xem có thỏa mãn với yêu cầu hay không\n",
        "\n",
        "### **4.Algorithm Design**\n",
        "\n",
        "- input **a,k,b,m,n**\n",
        "- Set:\n",
        "  - **day = n // (a+b)** \n",
        "- Loop\n",
        "  - The number off trees cut: **n_cut = day*(a + b) - (day//k)*a - (day//m)*b**\n",
        "  - \" **today_tree** \" - trees cut in last day mean : *if $day$ = 3 ,today_tree = the number of trees cut in day 3*. ***today_tree = 0*** will increase by function below     \n",
        "          if day % k != 0:\n",
        "\t          \ttoday_tree += a\n",
        "        \tif day % m != 0:\n",
        "\t          \ttoday_tree += b\n",
        "- if n_cut < n:\n",
        "  - Set : $day$ = $day$ + 1 + ($n$ - $n$_$cut$)//($a$+$b$)\n",
        "- elif n_cut - today_tree >= n :\n",
        "  - $day$ = $day$ - 1\n",
        "  - Then break loop\n",
        "- else :\n",
        "  - Just break loop\n",
        "\n",
        ">  Độ phức tạp của thuật toán là : $O(logn)$\n",
        "### **5.Programming**"
      ]
    },
    {
      "cell_type": "code",
      "metadata": {
        "colab": {
          "base_uri": "https://localhost:8080/"
        },
        "id": "L-aVLEf--6go",
        "outputId": "c06e7fbb-4215-405e-ad78-1226fcab5df0"
      },
      "source": [
        "a,k,b,m,n = map(int,input().split())\n",
        "day = n // (a + b)\n",
        "while 1 :\n",
        "\tn_cut = day*(a + b) - (day//k)*a - (day//m)*b\n",
        "\ttoday_tree = 0 \n",
        "\tif day % k != 0:\n",
        "\t\ttoday_tree += a\n",
        "\tif day % m != 0:\n",
        "\t\ttoday_tree += b\n",
        "\tif n_cut < n:\n",
        "\t\tday = day + 1 + (n - n_cut)//(a+b) \n",
        "\telif (n_cut - today_tree >= n):\n",
        "\t\tday = day - 1\n",
        "\t\tbreak\n",
        "\telse :\n",
        "\t\tbreak\n",
        "print(day)"
      ],
      "execution_count": 2,
      "outputs": [
        {
          "output_type": "stream",
          "text": [
            "2 4 3 3 25\n",
            "7\n"
          ],
          "name": "stdout"
        }
      ]
    },
    {
      "cell_type": "markdown",
      "metadata": {
        "id": "uRJv9zpx--R0"
      },
      "source": [
        "#**BÀI 2: SỐ NGUYÊN MỚI**"
      ]
    },
    {
      "cell_type": "markdown",
      "metadata": {
        "id": "N2O-Z2Np_UlR"
      },
      "source": [
        "### **1.Đề bài**\n",
        "\n",
        "Cho số nguyên dương **n** có không quá 100 chữ số. Hãy xác định số nguyên lớn nhất m chia hết cho 3 và khác **n** ở đúng một chữ số.\n",
        "\n",
        "Ví dụ, **n** = 123 thì **m** sẽ là 723.\n",
        "\n",
        "Dữ liệu: Vào từ thiết bị nhập chuẩn gồm một dòng chứa số nguyên **n** có không quá 100 chữ số và không chứa các số 0 không có nghĩa.\n",
        "\n",
        "***Kết quả:*** Đưa ra thiết bị xuất chuẩn số nguyên **m** tìm được.\n",
        "\n",
        "***Ví dụ:***\n",
        "\n",
        "***Input :*** *123*\n",
        "\n",
        "***Output :***  *723*\n",
        "\n",
        "### **2.Abstraction**\n",
        "\n",
        "Cho số nguyên $n$ không quá 100 chữ số, thay 1 chữ số để đạt được số nguyên lớn nhất có thể và chia hết cho 3\n",
        "### **3.Pattern Recognition**\n",
        "\n",
        "- Dạng toán:\n",
        "  - Vét cạn\n",
        "- Đặc điểm nhận dạng:\n",
        "  - Vì không biết thay đổi vị trí chính xác ở chỗ nào cho nên phải quét toàn bộ các chữ số của số đó\n",
        "\n",
        "### **4.Algorithm Design**\n",
        "\n",
        "- input **str1** - $str1$ mean $n$\n",
        "- Create $list1$ with every single element is **string** type and $list1$$[:0]$ $=$ $str1$\n",
        "- Create $list2$ with every single element is **integer** type and $list2$ $=$ $list1$\n",
        "- Create $bonus$ $=$ $3$ $-$ $sum(list2)$ % $3$  \n",
        "          if bonus == 0:\n",
        "\t          bonus = 3\n",
        "- Create z = 0\n",
        "\n",
        "####**First situation : m will > n**\n",
        "- Loop for i in range(0,len(list1) : \n",
        "  - If find out $i$ -location of number that list2[i] + bonus < 10:\n",
        "    - $list2[i] = list2[i] + bonus$\n",
        "    - Then plus this number up 3 if < 10:\n",
        "    - $list1[i] = str(list2[i])$\n",
        "    - z = 1 then break\n",
        "\n",
        "####**The other situation : m will < n**\n",
        "- Set :\n",
        "          if bonus == 3:\n",
        "\t          bonus = 0\n",
        "- if z == 0\n",
        "- Loop for i in range (dodai-1,-1,-1):\n",
        "  - If find out $i$ - location of number that list2[i] - bonus >= 0\n",
        "    - $list2[i] = list2[i] - bonus$\n",
        "    - $list1[i] = str(list2[i])$\n",
        "    - Then break\n",
        "- Create $str2 =$ ''$.join(list1)$\n",
        "- $str2$ is result\n",
        "\n",
        ">  Độ phức tạp của thuật toán là : $O(n)$\n",
        "### **5.Programming**"
      ]
    },
    {
      "cell_type": "code",
      "metadata": {
        "colab": {
          "base_uri": "https://localhost:8080/"
        },
        "id": "EHHz6uTuHQX-",
        "outputId": "b8f28c24-5461-47ce-816a-be2a66aa1505"
      },
      "source": [
        "str1 = int(input())\n",
        "str1 = str(str1)\n",
        "list1 = []\n",
        "list2 = []\n",
        "list1[:0] = str1\n",
        "dodai = len(list1)\n",
        "for i in range(0,dodai):\n",
        "\tlist2.append(int(list1[i]))\n",
        "bonus = 3 - (sum(list2) % 3)\n",
        "if bonus == 0:\n",
        "\tbonus = 3\n",
        "z = 0\n",
        "for i in range(0,dodai):\n",
        "\tif list2[i] + bonus < 10 :\n",
        "\t\tlist2[i] = list2[i] + bonus\n",
        "\t\twhile list2[i] + 3 < 10:\n",
        "\t\t\tlist2[i] = list2[i] + 3 \n",
        "\t\tlist1[i] = str(list2[i])\n",
        "\t\tz = 1\n",
        "\t\tbreak\n",
        "if bonus == 3:\n",
        "\tbonus = 0\n",
        "if z == 0 :\n",
        "\tfor i in range (dodai-1,-1,-1):\n",
        "\t\tif list2[i] - (3 - bonus) >= 0:\n",
        "\t\t\tlist2[i] = list2[i] - (3 - bonus)\n",
        "\t\t\tlist1[i] = str(list2[i])\n",
        "\t\t\tbreak\n",
        "str2 = ''.join(list1)\n",
        "print(str2)"
      ],
      "execution_count": 3,
      "outputs": [
        {
          "output_type": "stream",
          "text": [
            "123\n",
            "723\n"
          ],
          "name": "stdout"
        }
      ]
    }
  ]
}