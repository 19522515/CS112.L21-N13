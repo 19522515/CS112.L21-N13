{
 "cells": [
  {
   "cell_type": "markdown",
   "id": "ff8a8e72",
   "metadata": {},
   "source": [
    "# Nhóm 13"
   ]
  },
  {
   "cell_type": "markdown",
   "id": "efd02d72",
   "metadata": {},
   "source": [
    "# Khóa Số\n",
    "Để tăng độ an toàn chống hiện tượng cướp ngân hàng ngày càng phổ biến người ta dùng khóa số với mã mở khóa đơn giản nhưng rất hiệu quả. Trên cửa ra vào hiển thị một xâu khá dài các ký tự số. Các chữ số có thể di chuyển đổi chổ cho nhau hoặc bị xóa. Muốn mở khóa người ta phải di chuyển các chữ số và trong trường hợp cần thiết – xóa vài chữ số để nhận được xâu lớn nhất thỏa mãn điều kiện đã cài đặt. Điều kiện này được thay đổi thường xuyên. Hôm nay điều kiện đó là “Số nhận được phải chia hết cho 3”. Số nhận được có thể bắt đầu bằng các chữ số 0. Xâu “000” sẽ lớn hơn xâu “00”.\n",
    "Hãy xác định khóa mở cửa.\n",
    "\n",
    "Dữ liệu: Vào từ thiết bị nhập chuẩn gồm một xâu ký tự số có độ dài lớn hơn 2 và không vượt quá 105.\n",
    "\n",
    "Kết quả: Đưa ra thiết bị xuất chuẩn xâu khóa mở cửa."
   ]
  },
  {
   "cell_type": "markdown",
   "id": "44fd4ac6",
   "metadata": {},
   "source": [
    "# 1.Abstraction\n",
    "Tìm số lớn nhất chia hết cho 3 từ những con số trong số đã cho bằng cách biến đổi một mảng số (xóa, đổi chỗ)"
   ]
  },
  {
   "cell_type": "markdown",
   "id": "0e5bd277",
   "metadata": {},
   "source": [
    "# 2.Pattern Recognition\n",
    "* Thuật toán : duyệt toàn bộ mảng, biến đổi để tổng giá trị mảng thỏa yêu cầu\n",
    "* Đặc điểm nhận dạng : tìm số lớn nhất chia hết cho 3 từ số đã cho"
   ]
  },
  {
   "cell_type": "markdown",
   "id": "1c1a3b34",
   "metadata": {},
   "source": [
    "# 3.Algorithm Design\n",
    "* Tạo mảng a có 10 phần tử. Với ***giá trị của a[i]*** tương đương với ***số lần xuất hiện của chữ số i*** trong số **n** đã nhập vào.\n",
    "* Tính tổng giá trị các chữ số của số **n**. Tìm modulo của tổng chia cho 3\n",
    "* Trường hộp tổng chia hết cho 3:\n",
    "    - Trả về mảng\n",
    "* Trường hợp tổng không chia hết cho 3:\n",
    "    - Tìm số với = (tổng % 3) (1,4,7 hoặc 2,5,8)\n",
    "    - Nếu không tìm được thì xóa 2 số nhỏ nhất = 3 - (tổng % 3)\n",
    "    - Trả về mảng\n",
    "* Xử lí mảng và xuất ra giá trị lớn nhất từ những con số còn lại"
   ]
  },
  {
   "cell_type": "markdown",
   "id": "9ba98505",
   "metadata": {},
   "source": [
    "# 4. Đánh giá độ phức tạp\n",
    "* *Độ phức tạp của thuật toán là: O(n)*"
   ]
  },
  {
   "cell_type": "markdown",
   "id": "4a38aae4",
   "metadata": {},
   "source": [
    "# 5.Programming"
   ]
  },
  {
   "cell_type": "code",
   "execution_count": null,
   "id": "ef32aabb",
   "metadata": {},
   "outputs": [],
   "source": [
    "a = [0] * 10\n",
    "sum = 0\n",
    "for i in input().strip():\n",
    "    a[int(i)] += 1\n",
    "    sum += int(i)\n",
    "\n",
    "def delPass(a):\n",
    "    r = sum % 3\n",
    "    if r == 0:\n",
    "        return\n",
    "    for i in range(r, 9, 3):\n",
    "        if a[i] > 0:\n",
    "            a[i] -= 1\n",
    "            break\n",
    "    else:\n",
    "        for i in range(3-r, 9, 3):\n",
    "            if a[i] > 0:\n",
    "                a[i] -= 1\n",
    "        for i in range(3-r, 9, 3):\n",
    "            if a[i] > 0:\n",
    "                a[i] -= 1\n",
    "\n",
    "def printPass(a):\n",
    "    for i, v in zip(range(9, -1, -1), a[::-1]):\n",
    "        if v != 0:\n",
    "            print(str(i) * v, end='', sep='')\n",
    "\n",
    "delPass(a)\n",
    "printPass(a)"
   ]
  }
 ],
 "metadata": {
  "kernelspec": {
   "display_name": "Python 3",
   "language": "python",
   "name": "python3"
  },
  "language_info": {
   "codemirror_mode": {
    "name": "ipython",
    "version": 3
   },
   "file_extension": ".py",
   "mimetype": "text/x-python",
   "name": "python",
   "nbconvert_exporter": "python",
   "pygments_lexer": "ipython3",
   "version": "3.9.2"
  }
 },
 "nbformat": 4,
 "nbformat_minor": 5
}